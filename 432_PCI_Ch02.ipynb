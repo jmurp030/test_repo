{
  "nbformat": 4,
  "nbformat_minor": 0,
  "metadata": {
    "colab": {
      "name": "Copy of 432-PCI-Ch02.ipynb",
      "provenance": [],
      "collapsed_sections": [],
      "toc_visible": true,
      "include_colab_link": true
    },
    "kernelspec": {
      "name": "python392jvsc74a57bd0b9a61d4513bdf2ea91955526ed8d1838901bbabaa25b4ef0d3871ad26989c36e",
      "display_name": "Python 3.9.2 64-bit"
    },
    "metadata": {
      "interpreter": {
        "hash": "b9a61d4513bdf2ea91955526ed8d1838901bbabaa25b4ef0d3871ad26989c36e"
      }
    }
  },
  "cells": [
    {
      "cell_type": "markdown",
      "metadata": {
        "id": "view-in-github",
        "colab_type": "text"
      },
      "source": [
        "<a href=\"https://colab.research.google.com/github/jmurp030/test_repo/blob/main/432_PCI_Ch02.ipynb\" target=\"_parent\"><img src=\"https://colab.research.google.com/assets/colab-badge.svg\" alt=\"Open In Colab\"/></a>"
      ]
    },
    {
      "cell_type": "markdown",
      "metadata": {
        "id": "ZdZS8TuJh4AG"
      },
      "source": [
        "Code based on Ch 2 \"Making Recommendations\" from *Programming Collective Intelligence*  \n",
        "\n",
        "(source at https://github.com/arthur-e/Programming-Collective-Intelligence/blob/master/chapter2/recommendations.py)"
      ]
    },
    {
      "cell_type": "markdown",
      "metadata": {
        "id": "cDrDbQy6iS9d"
      },
      "source": [
        "First, set up the dictionary of movie critics and ratings."
      ]
    },
    {
      "cell_type": "code",
      "metadata": {
        "id": "qdJ66XRciDa4"
      },
      "source": [
        "critics = {\n",
        "    'Lisa Rose': {\n",
        "        'Lady in the Water': 2.5,\n",
        "        'Snakes on a Plane': 3.5,\n",
        "        'Just My Luck': 3.0,\n",
        "        'Superman Returns': 3.5,\n",
        "        'You, Me and Dupree': 2.5,\n",
        "        'The Night Listener': 3.0,\n",
        "    },\n",
        "    'Gene Seymour': {\n",
        "        'Lady in the Water': 3.0,\n",
        "        'Snakes on a Plane': 3.5,\n",
        "        'Just My Luck': 1.5,\n",
        "        'Superman Returns': 5.0,\n",
        "        'The Night Listener': 3.0,\n",
        "        'You, Me and Dupree': 3.5,\n",
        "    },\n",
        "    'Michael Phillips': {\n",
        "        'Lady in the Water': 2.5,\n",
        "        'Snakes on a Plane': 3.0,\n",
        "        'Superman Returns': 3.5,\n",
        "        'The Night Listener': 4.0,\n",
        "    },\n",
        "    'Claudia Puig': {\n",
        "        'Snakes on a Plane': 3.5,\n",
        "        'Just My Luck': 3.0,\n",
        "        'The Night Listener': 4.5,\n",
        "        'Superman Returns': 4.0,\n",
        "        'You, Me and Dupree': 2.5,\n",
        "    },\n",
        "    'Mick LaSalle': {\n",
        "        'Lady in the Water': 3.0,\n",
        "        'Snakes on a Plane': 4.0,\n",
        "        'Just My Luck': 2.0,\n",
        "        'Superman Returns': 3.0,\n",
        "        'The Night Listener': 3.0,\n",
        "        'You, Me and Dupree': 2.0,\n",
        "    },\n",
        "    'Jack Matthews': {\n",
        "        'Lady in the Water': 3.0,\n",
        "        'Snakes on a Plane': 4.0,\n",
        "        'The Night Listener': 3.0,\n",
        "        'Superman Returns': 5.0,\n",
        "        'You, Me and Dupree': 3.5,\n",
        "    },\n",
        "    'Toby': {\n",
        "        'Snakes on a Plane': 4.5, \n",
        "        'You, Me and Dupree': 1.0,\n",
        "        'Superman Returns': 4.0\n",
        "    },\n",
        "}"
      ],
      "execution_count": 1,
      "outputs": []
    },
    {
      "cell_type": "markdown",
      "metadata": {
        "id": "3E3gzSRxilPV"
      },
      "source": [
        "Examples from pg. 9"
      ]
    },
    {
      "cell_type": "code",
      "metadata": {
        "id": "XWh5NpujimeC",
        "colab": {
          "base_uri": "https://localhost:8080/"
        },
        "outputId": "c895f6e7-793f-431d-c918-b1ab7999d2ae"
      },
      "source": [
        "critics['Lisa Rose']['Lady in the Water']"
      ],
      "execution_count": 2,
      "outputs": [
        {
          "output_type": "execute_result",
          "data": {
            "text/plain": [
              "2.5"
            ]
          },
          "metadata": {
            "tags": []
          },
          "execution_count": 2
        }
      ]
    },
    {
      "cell_type": "code",
      "metadata": {
        "id": "WH91V2EtisGJ",
        "colab": {
          "base_uri": "https://localhost:8080/"
        },
        "outputId": "7c2a42fe-6948-4227-ece5-243025f62b32"
      },
      "source": [
        "critics['Toby']"
      ],
      "execution_count": 4,
      "outputs": [
        {
          "output_type": "execute_result",
          "data": {
            "text/plain": [
              "{'Snakes on a Plane': 4.5, 'Superman Returns': 4.0, 'You, Me and Dupree': 1.0}"
            ]
          },
          "metadata": {
            "tags": []
          },
          "execution_count": 4
        }
      ]
    },
    {
      "cell_type": "markdown",
      "metadata": {
        "id": "SA_K5bihiyGR"
      },
      "source": [
        "Next, add the modified Euclidean distance score (similarity [0,1])"
      ]
    },
    {
      "cell_type": "code",
      "metadata": {
        "id": "2StpZ_m4i1tn"
      },
      "source": [
        "from math import sqrt\n",
        "\n",
        "def sim_distance(prefs, p1, p2):\n",
        "    '''\n",
        "    Returns a distance-based similarity score for person1 and person2.\n",
        "    '''\n",
        "\n",
        "    # Get the list of shared_items\n",
        "    si = {}\n",
        "    for item in prefs[p1]:\n",
        "        if item in prefs[p2]:\n",
        "            si[item] = 1\n",
        "\n",
        "    # If they have no ratings in common, return 0\n",
        "    if len(si) == 0:\n",
        "        return 0\n",
        "\n",
        "    # Add up the squares of all the differences\n",
        "    sum_of_squares = sum([pow(prefs[p1][item] - prefs[p2][item], 2)\n",
        "                          for item in si])\n",
        "\n",
        "    return 1 / (1 + sqrt(sum_of_squares))\n"
      ],
      "execution_count": 3,
      "outputs": []
    },
    {
      "cell_type": "markdown",
      "metadata": {
        "id": "qKDnWj9SjB2H"
      },
      "source": [
        "Example from pg. 11 (*doesn't match book...*)"
      ]
    },
    {
      "cell_type": "code",
      "metadata": {
        "id": "DjQAuawNjDMH",
        "colab": {
          "base_uri": "https://localhost:8080/"
        },
        "outputId": "e67f2e16-8541-46d1-f879-8c85583ae883"
      },
      "source": [
        "sim_distance(critics, 'Lisa Rose', 'Gene Seymour')"
      ],
      "execution_count": 5,
      "outputs": [
        {
          "output_type": "execute_result",
          "data": {
            "text/plain": [
              "0.29429805508554946"
            ]
          },
          "metadata": {
            "tags": []
          },
          "execution_count": 5
        }
      ]
    },
    {
      "cell_type": "markdown",
      "metadata": {
        "id": "h4ajZeTykvTB"
      },
      "source": [
        "Add Pearson correlation function"
      ]
    },
    {
      "cell_type": "code",
      "metadata": {
        "id": "E8r_f6rDky0J"
      },
      "source": [
        "def sim_pearson(prefs, p1, p2):\n",
        "    '''\n",
        "    Returns the Pearson correlation coefficient for p1 and p2.\n",
        "    '''\n",
        "\n",
        "    # Get the list of mutually rated items\n",
        "    si = {}\n",
        "    for item in prefs[p1]:\n",
        "        if item in prefs[p2]:\n",
        "            si[item] = 1\n",
        "    \n",
        "    # If they are no ratings in common, return 0\n",
        "    if len(si) == 0:\n",
        "        return 0\n",
        "    \n",
        "    # Sum calculations\n",
        "    n = len(si)\n",
        "    \n",
        "    # Sums of all the preferences\n",
        "    sum1 = sum([prefs[p1][it] for it in si])\n",
        "    sum2 = sum([prefs[p2][it] for it in si])\n",
        "    \n",
        "    # Sums of the squares\n",
        "    sum1Sq = sum([pow(prefs[p1][it], 2) for it in si])\n",
        "    sum2Sq = sum([pow(prefs[p2][it], 2) for it in si])\n",
        "    \n",
        "    # Sum of the products\n",
        "    pSum = sum([prefs[p1][it] * prefs[p2][it] for it in si])\n",
        "    \n",
        "    # Calculate r (Pearson score)\n",
        "    num = pSum - sum1 * sum2 / n\n",
        "    den = sqrt((sum1Sq - pow(sum1, 2) / n) * (sum2Sq - pow(sum2, 2) / n))\n",
        "    if den == 0:\n",
        "        return 0\n",
        "    r = num / den\n",
        "    return r"
      ],
      "execution_count": 6,
      "outputs": []
    },
    {
      "cell_type": "markdown",
      "metadata": {
        "id": "3nKx5swmk466"
      },
      "source": [
        "Example from pg. 14"
      ]
    },
    {
      "cell_type": "code",
      "metadata": {
        "id": "qfg_iOqEk7NY",
        "colab": {
          "base_uri": "https://localhost:8080/"
        },
        "outputId": "6cd3c3e3-514f-40ad-8880-53d7a5703897"
      },
      "source": [
        "sim_pearson(critics, 'Lisa Rose', 'Gene Seymour')"
      ],
      "execution_count": 7,
      "outputs": [
        {
          "output_type": "execute_result",
          "data": {
            "text/plain": [
              "0.39605901719066977"
            ]
          },
          "metadata": {
            "tags": []
          },
          "execution_count": 7
        }
      ]
    },
    {
      "cell_type": "markdown",
      "metadata": {
        "id": "KInMVDEPlOrn"
      },
      "source": [
        "Find closest matches - which critics have tastes similar to mine?"
      ]
    },
    {
      "cell_type": "code",
      "metadata": {
        "id": "CnpBW8HUlUZW"
      },
      "source": [
        "def topMatches(\n",
        "    prefs,\n",
        "    person,\n",
        "    n=5,\n",
        "    similarity=sim_pearson,\n",
        "):\n",
        "    '''\n",
        "    Returns the best matches for person from the prefs dictionary. \n",
        "    Number of results and similarity function are optional params.\n",
        "    '''\n",
        "\n",
        "    scores = [(similarity(prefs, person, other), other) for other in prefs\n",
        "              if other != person]\n",
        "    scores.sort()\n",
        "    scores.reverse()\n",
        "    return scores[0:n]"
      ],
      "execution_count": 8,
      "outputs": []
    },
    {
      "cell_type": "markdown",
      "metadata": {
        "id": "mbc6Mx4nlWOY"
      },
      "source": [
        "Example from pg. 15"
      ]
    },
    {
      "cell_type": "code",
      "metadata": {
        "id": "RP3qfgK1lXUY",
        "colab": {
          "base_uri": "https://localhost:8080/"
        },
        "outputId": "678c7c54-0110-4dc3-a7ae-1d87b1d8700a"
      },
      "source": [
        "topMatches(critics, \"Toby\", n=3)"
      ],
      "execution_count": 9,
      "outputs": [
        {
          "output_type": "execute_result",
          "data": {
            "text/plain": [
              "[(0.9912407071619299, 'Lisa Rose'),\n",
              " (0.9244734516419049, 'Mick LaSalle'),\n",
              " (0.8934051474415647, 'Claudia Puig')]"
            ]
          },
          "metadata": {
            "tags": []
          },
          "execution_count": 9
        }
      ]
    },
    {
      "cell_type": "markdown",
      "metadata": {
        "id": "ZIQjS-lECucZ"
      },
      "source": [
        "Now we want to use this data to get a movie recommendation"
      ]
    },
    {
      "cell_type": "code",
      "metadata": {
        "id": "YapTb8wbCxSo"
      },
      "source": [
        "def getRecommendations(prefs, person, similarity=sim_pearson):\n",
        "    '''\n",
        "    Gets recommendations for a person by using a weighted average\n",
        "    of every other user's rankings\n",
        "    '''\n",
        "\n",
        "    totals = {}\n",
        "    simSums = {}\n",
        "    for other in prefs:\n",
        "    # Don't compare me to myself\n",
        "        if other == person:\n",
        "            continue\n",
        "        sim = similarity(prefs, person, other)\n",
        "        # Ignore scores of zero or lower\n",
        "        if sim <= 0:\n",
        "            continue\n",
        "        for item in prefs[other]:\n",
        "            # Only score movies I haven't seen yet\n",
        "            if item not in prefs[person] or prefs[person][item] == 0:\n",
        "                # Similarity * Score\n",
        "                totals.setdefault(item, 0)\n",
        "                # The final score is calculated by multiplying each item by the\n",
        "                #   similarity and adding these products together\n",
        "                totals[item] += prefs[other][item] * sim\n",
        "                # Sum of similarities\n",
        "                simSums.setdefault(item, 0)\n",
        "                simSums[item] += sim\n",
        "    # Create the normalized list\n",
        "    rankings = [(total / simSums[item], item) for (item, total) in\n",
        "                totals.items()]\n",
        "    # Return the sorted list\n",
        "    rankings.sort()\n",
        "    rankings.reverse()\n",
        "    return rankings"
      ],
      "execution_count": 10,
      "outputs": []
    },
    {
      "cell_type": "markdown",
      "metadata": {
        "id": "efbWoxHqCzpG"
      },
      "source": [
        "Examples from pg. 17"
      ]
    },
    {
      "cell_type": "code",
      "metadata": {
        "id": "EgieBGCkC2HO",
        "colab": {
          "base_uri": "https://localhost:8080/"
        },
        "outputId": "a9b16885-b2a9-40d3-e004-75afc2c9ea08"
      },
      "source": [
        "getRecommendations(critics, \"Toby\")"
      ],
      "execution_count": 11,
      "outputs": [
        {
          "output_type": "execute_result",
          "data": {
            "text/plain": [
              "[(3.3477895267131017, 'The Night Listener'),\n",
              " (2.8325499182641614, 'Lady in the Water'),\n",
              " (2.530980703765565, 'Just My Luck')]"
            ]
          },
          "metadata": {
            "tags": []
          },
          "execution_count": 11
        }
      ]
    },
    {
      "cell_type": "code",
      "metadata": {
        "id": "uHoVIhUsC9ER",
        "colab": {
          "base_uri": "https://localhost:8080/"
        },
        "outputId": "fcb810af-514e-477b-ccf5-85e20c7afd7b"
      },
      "source": [
        "getRecommendations(critics, \"Toby\", similarity=sim_distance)"
      ],
      "execution_count": 12,
      "outputs": [
        {
          "output_type": "execute_result",
          "data": {
            "text/plain": [
              "[(3.457128694491423, 'The Night Listener'),\n",
              " (2.778584003814924, 'Lady in the Water'),\n",
              " (2.422482042361917, 'Just My Luck')]"
            ]
          },
          "metadata": {
            "tags": []
          },
          "execution_count": 12
        }
      ]
    },
    {
      "cell_type": "markdown",
      "metadata": {
        "id": "alc8LML2DPlI"
      },
      "source": [
        "Now we want to know which movies are like each other.  So, if I like movie X, will I like movie Y?"
      ]
    },
    {
      "cell_type": "markdown",
      "metadata": {
        "id": "1LxLiQ8sDZby"
      },
      "source": [
        "First, we need to swap the rows and columns from our dataset (looking for item similarity instead of critic similarity)."
      ]
    },
    {
      "cell_type": "code",
      "metadata": {
        "id": "KEqlo00jDVao"
      },
      "source": [
        "def transformPrefs(prefs):\n",
        "    '''\n",
        "    Transform the recommendations into a mapping where persons are described\n",
        "    with interest scores for a given title e.g. {title: person} instead of\n",
        "    {person: title}.\n",
        "    '''\n",
        "\n",
        "    result = {}\n",
        "    for person in prefs:\n",
        "        for item in prefs[person]:\n",
        "            result.setdefault(item, {})\n",
        "            # Flip item and person\n",
        "            result[item][person] = prefs[person][item]\n",
        "    return result"
      ],
      "execution_count": 13,
      "outputs": []
    },
    {
      "cell_type": "markdown",
      "metadata": {
        "id": "110rgEccDka8"
      },
      "source": [
        "Examples from pg. 18"
      ]
    },
    {
      "cell_type": "code",
      "metadata": {
        "id": "KqnbO-MTDoBZ"
      },
      "source": [
        "movies = transformPrefs(critics)"
      ],
      "execution_count": 14,
      "outputs": []
    },
    {
      "cell_type": "markdown",
      "metadata": {
        "id": "t3rkDlHwDxok"
      },
      "source": [
        "Now that we have a dataset referenced on movies, we can find movies that are most similar to each other."
      ]
    },
    {
      "cell_type": "code",
      "metadata": {
        "id": "vbSYnIhfDuO6",
        "colab": {
          "base_uri": "https://localhost:8080/"
        },
        "outputId": "19c5c98b-85bd-4292-9162-45414aae6ab5"
      },
      "source": [
        "topMatches(movies, \"Superman Returns\")"
      ],
      "execution_count": 15,
      "outputs": [
        {
          "output_type": "execute_result",
          "data": {
            "text/plain": [
              "[(0.6579516949597695, 'You, Me and Dupree'),\n",
              " (0.4879500364742689, 'Lady in the Water'),\n",
              " (0.11180339887498941, 'Snakes on a Plane'),\n",
              " (-0.1798471947990544, 'The Night Listener'),\n",
              " (-0.42289003161103106, 'Just My Luck')]"
            ]
          },
          "metadata": {
            "tags": []
          },
          "execution_count": 15
        }
      ]
    },
    {
      "cell_type": "markdown",
      "metadata": {
        "id": "Uh1jlkEJCo8D"
      },
      "source": [
        "Example from page 26"
      ]
    },
    {
      "cell_type": "code",
      "metadata": {
        "id": "df6_5TG0EEld"
      },
      "source": [
        "def loadMovieLens():\n",
        "    #path = 'data/movielens'\n",
        "    # Get movie titles\n",
        "    movies={}\n",
        "    for line in open('data/movielens/u.item', encoding = \"ISO-8859-1\"):\n",
        "        (id,title)=line.split('|')[0:2]\n",
        "        movies[id]=title\n",
        "    \n",
        "    # Load data\n",
        "    prefs={}\n",
        "    for line in open('data/movielens/u.data', encoding = \"ISO-8859-1\"):\n",
        "        (user,movieid,rating,ts)=line.split('\\t')\n",
        "        prefs.setdefault(user,{})\n",
        "        prefs[user][movies[movieid]]=float(rating)\n",
        "    return prefs"
      ],
      "execution_count": 19,
      "outputs": []
    },
    {
      "cell_type": "code",
      "metadata": {
        "id": "qRNpq1IgFe-F"
      },
      "source": [
        "prefs=loadMovieLens()"
      ],
      "execution_count": 21,
      "outputs": []
    },
    {
      "cell_type": "code",
      "metadata": {
        "colab": {
          "base_uri": "https://localhost:8080/"
        },
        "id": "495EeYIubGR7",
        "outputId": "5cf03504-2c21-4ca0-dac0-49fe12894998"
      },
      "source": [
        "print(prefs)"
      ],
      "execution_count": 109,
      "outputs": [
        {
          "output_type": "stream",
          "text": [
            "IOPub data rate exceeded.\n",
            "The notebook server will temporarily stop sending output\n",
            "to the client in order to avoid crashing it.\n",
            "To change this limit, set the config variable\n",
            "`--NotebookApp.iopub_data_rate_limit`.\n",
            "\n",
            "Current values:\n",
            "NotebookApp.iopub_data_rate_limit=1000000.0 (bytes/sec)\n",
            "NotebookApp.rate_limit_window=3.0 (secs)\n",
            "\n"
          ],
          "name": "stderr"
        }
      ]
    },
    {
      "cell_type": "markdown",
      "metadata": {
        "id": "lKq73-hsIV_b"
      },
      "source": [
        "153 | 25 | M | student | 60641"
      ]
    },
    {
      "cell_type": "markdown",
      "metadata": {
        "id": "UcG0mq6QSoQr"
      },
      "source": [
        "Top 3 Movies:"
      ]
    },
    {
      "cell_type": "code",
      "metadata": {
        "colab": {
          "base_uri": "https://localhost:8080/"
        },
        "id": "BbSxbbNzHOXP",
        "outputId": "353ae83d-f576-4959-e1dc-8b4cd66f4ba9"
      },
      "source": [
        "sorted(prefs['153'].items(), key=lambda x:x[1], reverse=True)[:3]"
      ],
      "execution_count": 22,
      "outputs": [
        {
          "output_type": "execute_result",
          "data": {
            "text/plain": [
              "[('Shawshank Redemption, The (1994)', 5.0),\n",
              " ('Pulp Fiction (1994)', 5.0),\n",
              " ('Contact (1997)', 5.0)]"
            ]
          },
          "metadata": {
            "tags": []
          },
          "execution_count": 22
        }
      ]
    },
    {
      "cell_type": "markdown",
      "metadata": {
        "id": "lbEQ_MQaSiHy"
      },
      "source": [
        "Bottom 3 movies:"
      ]
    },
    {
      "cell_type": "code",
      "metadata": {
        "colab": {
          "base_uri": "https://localhost:8080/"
        },
        "id": "lcesVfCZSraM",
        "outputId": "b4ebc5de-c7f1-401c-dd84-ef40b5191cb2"
      },
      "source": [
        "sorted(prefs['153'].items(), key=lambda x:x[1], reverse=False)[:3]"
      ],
      "execution_count": 23,
      "outputs": [
        {
          "output_type": "execute_result",
          "data": {
            "text/plain": [
              "[('Raiders of the Lost Ark (1981)', 1.0),\n",
              " ('Star Wars (1977)', 1.0),\n",
              " ('Return of the Jedi (1983)', 1.0)]"
            ]
          },
          "metadata": {
            "tags": []
          },
          "execution_count": 23
        }
      ]
    },
    {
      "cell_type": "markdown",
      "metadata": {
        "id": "rbwfxBfoIjqK"
      },
      "source": [
        "154 | 25 | M | student | 53703"
      ]
    },
    {
      "cell_type": "markdown",
      "metadata": {
        "id": "vwUhARphS6Gj"
      },
      "source": [
        "Top 3 Movies:"
      ]
    },
    {
      "cell_type": "code",
      "metadata": {
        "colab": {
          "base_uri": "https://localhost:8080/"
        },
        "id": "u-pRTo5-IKMa",
        "outputId": "b0219d98-1912-4368-b156-1ef623c202cf"
      },
      "source": [
        "sorted(prefs['154'].items(), key=lambda x:x[1], reverse=True)[:3]"
      ],
      "execution_count": 24,
      "outputs": [
        {
          "output_type": "execute_result",
          "data": {
            "text/plain": [
              "[('Brazil (1985)', 5.0), ('GoodFellas (1990)', 5.0), ('Star Wars (1977)', 5.0)]"
            ]
          },
          "metadata": {
            "tags": []
          },
          "execution_count": 24
        }
      ]
    },
    {
      "cell_type": "markdown",
      "metadata": {
        "id": "koggkdBXS9Dc"
      },
      "source": [
        "Bottom 3 movies:"
      ]
    },
    {
      "cell_type": "code",
      "metadata": {
        "colab": {
          "base_uri": "https://localhost:8080/"
        },
        "id": "QFwmYKgKS_iC",
        "outputId": "195620d8-e1e2-429a-8a2c-2a7b7acc3da7"
      },
      "source": [
        "sorted(prefs['154'].items(), key=lambda x:x[1], reverse=False)[:3]"
      ],
      "execution_count": 25,
      "outputs": [
        {
          "output_type": "execute_result",
          "data": {
            "text/plain": [
              "[('Evita (1996)', 2.0),\n",
              " ('Lost Highway (1997)', 2.0),\n",
              " ('Star Trek: First Contact (1996)', 2.0)]"
            ]
          },
          "metadata": {
            "tags": []
          },
          "execution_count": 25
        }
      ]
    },
    {
      "cell_type": "markdown",
      "metadata": {
        "id": "2ME_HyoFIvoy"
      },
      "source": [
        "160 | 27 | M | programmer | 66215"
      ]
    },
    {
      "cell_type": "markdown",
      "metadata": {
        "id": "l6KppL5iTFkj"
      },
      "source": [
        "Top 3 Movies:"
      ]
    },
    {
      "cell_type": "code",
      "metadata": {
        "colab": {
          "base_uri": "https://localhost:8080/"
        },
        "id": "Cs5BBIy3INhc",
        "outputId": "9ff88caa-ef0f-4118-c771-04e138679daa"
      },
      "source": [
        "sorted(prefs['160'].items(), key=lambda x:x[1], reverse=True)[:3]"
      ],
      "execution_count": 26,
      "outputs": [
        {
          "output_type": "execute_result",
          "data": {
            "text/plain": [
              "[('Jaws (1975)', 5.0),\n",
              " ('Raiders of the Lost Ark (1981)', 5.0),\n",
              " ('Glengarry Glen Ross (1992)', 5.0)]"
            ]
          },
          "metadata": {
            "tags": []
          },
          "execution_count": 26
        }
      ]
    },
    {
      "cell_type": "markdown",
      "metadata": {
        "id": "wBK1T5B5THcz"
      },
      "source": [
        "Bottom 3 Movies:"
      ]
    },
    {
      "cell_type": "code",
      "metadata": {
        "colab": {
          "base_uri": "https://localhost:8080/"
        },
        "id": "EIav6CfDTS0B",
        "outputId": "2f28e99f-e4f7-40d9-9079-4fc4c9a0a21b"
      },
      "source": [
        "sorted(prefs['160'].items(), key=lambda x:x[1], reverse=False)[:3]"
      ],
      "execution_count": 27,
      "outputs": [
        {
          "output_type": "execute_result",
          "data": {
            "text/plain": [
              "[('Muppet Treasure Island (1996)', 1.0),\n",
              " ('Winnie the Pooh and the Blustery Day (1968)', 1.0),\n",
              " ('My Fellow Americans (1996)', 1.0)]"
            ]
          },
          "metadata": {
            "tags": []
          },
          "execution_count": 27
        }
      ]
    },
    {
      "cell_type": "markdown",
      "metadata": {
        "id": "96ia6zpwI3YM"
      },
      "source": [
        "193 | 29 | M | student | 49931"
      ]
    },
    {
      "cell_type": "markdown",
      "metadata": {
        "id": "GwwTe2GGTYcV"
      },
      "source": [
        "Top 3 Movies:"
      ]
    },
    {
      "cell_type": "code",
      "metadata": {
        "colab": {
          "base_uri": "https://localhost:8080/"
        },
        "id": "bQ51b-t5ISiH",
        "outputId": "ac9ba220-5cf1-4131-a79c-a964cec3cded"
      },
      "source": [
        "sorted(prefs['193'].items(), key=lambda x:x[1], reverse=True)[:3]"
      ],
      "execution_count": 28,
      "outputs": [
        {
          "output_type": "execute_result",
          "data": {
            "text/plain": [
              "[('My Fair Lady (1964)', 5.0),\n",
              " ('Godfather, The (1972)', 5.0),\n",
              " ('Fargo (1996)', 5.0)]"
            ]
          },
          "metadata": {
            "tags": []
          },
          "execution_count": 28
        }
      ]
    },
    {
      "cell_type": "markdown",
      "metadata": {
        "id": "SQMnF4CWTaRD"
      },
      "source": [
        "Bottom 3 Movies:"
      ]
    },
    {
      "cell_type": "code",
      "metadata": {
        "colab": {
          "base_uri": "https://localhost:8080/"
        },
        "id": "Oj3WrohiTbqd",
        "outputId": "a4da6600-97a2-442b-eaf4-cb49c8ef2b3f"
      },
      "source": [
        "sorted(prefs['193'].items(), key=lambda x:x[1], reverse=False)[:3]"
      ],
      "execution_count": 29,
      "outputs": [
        {
          "output_type": "execute_result",
          "data": {
            "text/plain": [
              "[('Terminator 2: Judgment Day (1991)', 1.0),\n",
              " ('Bio-Dome (1996)', 1.0),\n",
              " ('I Know What You Did Last Summer (1997)', 1.0)]"
            ]
          },
          "metadata": {
            "tags": []
          },
          "execution_count": 29
        }
      ]
    },
    {
      "cell_type": "markdown",
      "metadata": {
        "id": "s7AIBfgBaBVV"
      },
      "source": [
        "Shell script for question 2.\n",
        "Finding correlation between critics"
      ]
    },
    {
      "cell_type": "code",
      "metadata": {
        "colab": {
          "base_uri": "https://localhost:8080/"
        },
        "id": "_9a1Cvk54b-A",
        "outputId": "2dc7ca35-bb52-4715-b75e-20ae6ccad653"
      },
      "source": [
        "sim_pearson(prefs, '100', '154')"
      ],
      "execution_count": 47,
      "outputs": [
        {
          "output_type": "execute_result",
          "data": {
            "text/plain": [
              "0.2581988897471617"
            ]
          },
          "metadata": {
            "tags": []
          },
          "execution_count": 47
        }
      ]
    },
    {
      "cell_type": "code",
      "metadata": {
        "id": "GDxW45aJ8QOO"
      },
      "source": [
        "print('user num, correlation')\n",
        "for i in prefs:\n",
        "    output = sim_pearson(prefs, i, '154')\n",
        "    print(i + \", \" + str(output))\n",
        "    #print(output)"
      ],
      "execution_count": null,
      "outputs": []
    },
    {
      "cell_type": "code",
      "metadata": {
        "id": "Bs6ZnzeH9hAp"
      },
      "source": [
        "for i in prefs:\n",
        "    output = sim_pearson(prefs, i, '154')\n",
        "    user = i\n",
        "    thisdict = {\n",
        "        \"user\": i,\n",
        "        \"pearson correlation\": output\n",
        "        \n",
        "    }"
      ],
      "execution_count": 60,
      "outputs": []
    },
    {
      "cell_type": "code",
      "metadata": {
        "colab": {
          "base_uri": "https://localhost:8080/"
        },
        "id": "KsEEMADFaO-y",
        "outputId": "c73a0718-c018-4ed5-e7c5-5c384a6d119d"
      },
      "source": [
        "%%writefile correlation_shell_script.sh\n",
        "\n",
        "for i in prefs;do\n",
        "    output = sim_pearson(prefs, 'i', '154')\n",
        "    print(output)\n",
        "    print('\\n')\n",
        "  done\n"
      ],
      "execution_count": 51,
      "outputs": [
        {
          "output_type": "stream",
          "text": [
            "Overwriting correlation_shell_script.sh\n"
          ],
          "name": "stdout"
        }
      ]
    },
    {
      "cell_type": "code",
      "metadata": {
        "id": "Qn06E9dacvFM"
      },
      "source": [
        "!bash correlation_shell_script.sh"
      ],
      "execution_count": null,
      "outputs": []
    }
  ]
}